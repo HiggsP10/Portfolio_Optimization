{
 "cells": [
  {
   "cell_type": "markdown",
   "metadata": {},
   "source": [
    "# Use Black-Litterman model to get a posterior estimation of stocks' return\n",
    "# Use sentiment score from alphavantage as views "
   ]
  },
  {
   "cell_type": "code",
   "execution_count": 74,
   "metadata": {},
   "outputs": [],
   "source": [
    "import numpy as np\n",
    "import pandas as pd\n",
    "import matplotlib.pyplot as plt\n",
    "import yfinance as yf"
   ]
  },
  {
   "cell_type": "code",
   "execution_count": 75,
   "metadata": {},
   "outputs": [
    {
     "name": "stderr",
     "output_type": "stream",
     "text": [
      "[*********************100%%**********************]  6 of 6 completed\n",
      "[*********************100%%**********************]  1 of 1 completed\n"
     ]
    }
   ],
   "source": [
    "tickers = [\"AAPL\", \"AMZN\", \"META\", \"NFLX\", \"NVDA\", \"TSLA\"]\n",
    "ohlc = yf.download(tickers, period=\"max\") # start = \"2010-01-01\", end=\"2018-01-01\")\n",
    "prices = ohlc[\"Adj Close\"]\n",
    "\n",
    "# SPY: SPDR S&P 500 ETF Trust. It is designed to track the S&P 500 stock market index. This fund is the largest and oldest ETF in the USA.\n",
    "market_prices = yf.download(\"SPY\", period=\"max\")[\"Adj Close\"]\n",
    "# market_prices.head()"
   ]
  },
  {
   "cell_type": "markdown",
   "metadata": {},
   "source": [
    "# Calculate the market implied prior returns"
   ]
  },
  {
   "cell_type": "code",
   "execution_count": 76,
   "metadata": {},
   "outputs": [
    {
     "data": {
      "image/png": "[encoded data removed]",
      "text/plain": [
       "<Figure size 480x480 with 2 Axes>"
      ]
     },
     "metadata": {},
     "output_type": "display_data"
    }
   ],
   "source": [
    "import pypfopt\n",
    "from pypfopt import black_litterman, risk_models\n",
    "from pypfopt import BlackLittermanModel\n",
    "\n",
    "mcaps = {}\n",
    "for t in tickers:\n",
    "    stock = yf.Ticker(t)\n",
    "    mcaps[t] = stock.info[\"marketCap\"]\n",
    "S = risk_models.CovarianceShrinkage(prices).ledoit_wolf() # Covariance Matrix of asset returns\n",
    "\n",
    "# Plot correlation matrix\n",
    "plt.matshow(S.corr())\n",
    "plt.xticks(range(S.select_dtypes(['number']).shape[1]), S.select_dtypes(['number']).columns, fontsize=10)\n",
    "plt.yticks(range(S.select_dtypes(['number']).shape[1]), S.select_dtypes(['number']).columns, fontsize=10)\n",
    "cb = plt.colorbar()\n",
    "cb.ax.tick_params(labelsize=8)\n",
    "plt.title('Correlation Matrix', fontsize=14)\n",
    "\n",
    "delta = black_litterman.market_implied_risk_aversion(market_prices) # Prior estimate of returns, calculated by the market’s excess return divided by its variance: (R-R_f)/sig^2\n",
    "market_prior = black_litterman.market_implied_prior_returns(mcaps, delta, S)"
   ]
  },
  {
   "cell_type": "markdown",
   "metadata": {},
   "source": [
    "# Use sentiment score from alphavantage to calculate the veiws\n",
    "Use sentiment score gamma to calculate new stock price\n",
    "\n",
    "  $$ S_T=   \\left\\{\n",
    "\\begin{array}{ll}\n",
    "      S_0+[(S_{MC}^+ -S_0) \\cdot \\gamma] & \\text{ if }  \\gamma \\text{ in } (0, 1] \\\\\n",
    "      S_0-[(S_0 - S_{MC}^-) \\cdot  \\gamma] & \\text{ if } \\gamma \\text{ in } [-1, 0) \\\\\n",
    "\\end{array} \n",
    "\\right.  $$\n",
    "We need to use Monte Carlo to simulate possible stock prices to get $S_{MC}^-$ and $S_{MC}^+$.\n",
    "\n",
    "Then \n",
    "$$Views= \\ln (\\frac{S_T}{S_0})$$"
   ]
  },
  {
   "cell_type": "code",
   "execution_count": 77,
   "metadata": {},
   "outputs": [],
   "source": [
    "def get_data(ticker):\n",
    "    df_news = pd.read_csv(f'../data/{ticker}_news_data.csv', index_col='date',parse_dates=True,dtype=float)\n",
    "    return df_news\n",
    "# use the average of sentiment score from the last 10 days \n",
    "sentiment = {}\n",
    "confidences = []\n",
    "for ticker in tickers:\n",
    "    sentiment[ticker] = get_data(ticker)['sentiment_score'][-10:].mean()\n",
    "    confidences.append(get_data(ticker)['relevance_score'][-10:].mean())"
   ]
  },
  {
   "cell_type": "code",
   "execution_count": 78,
   "metadata": {},
   "outputs": [
    {
     "data": {
      "text/plain": [
       "{'AAPL': 0.2028133526917646,\n",
       " 'AMZN': 0.20648308892020723,\n",
       " 'META': 0.09771996494035207,\n",
       " 'NFLX': 0.21834471492682184,\n",
       " 'NVDA': 0.1999117861767659,\n",
       " 'TSLA': 0.1703159045557398}"
      ]
     },
     "execution_count": 78,
     "metadata": {},
     "output_type": "execute_result"
    }
   ],
   "source": [
    "sentiment"
   ]
  },
  {
   "cell_type": "markdown",
   "metadata": {},
   "source": [
    "## Monte Carlo simulation for stock prices"
   ]
  },
  {
   "cell_type": "code",
   "execution_count": 79,
   "metadata": {},
   "outputs": [],
   "source": [
    "# Calculate log returns\n",
    "log_returns = np.log(prices / prices.shift(1)).dropna()\n",
    "\n",
    "# Estimate parameters\n",
    "mean_return = log_returns.mean()\n",
    "volatility = log_returns.std()\n",
    "\n",
    "# Monte Carlo simulation parameters\n",
    "num_simulations = 1000\n",
    "num_days = 5  # Number of trading days in a year\n",
    "\n",
    "# Step 4: Simulate future prices\n",
    "def monte_carlo_simulation(start_price, mean_return, volatility, num_days, num_simulations):\n",
    "    simulated_prices = np.zeros((num_days, num_simulations))\n",
    "    simulated_prices[0] = start_price\n",
    "\n",
    "    for t in range(1, num_days):\n",
    "        random_shocks = np.random.normal(loc=mean_return, scale=volatility, size=num_simulations)\n",
    "        simulated_prices[t] = simulated_prices[t - 1] * np.exp(random_shocks)\n",
    "    \n",
    "    return simulated_prices\n",
    "\n",
    "def NewStockPrice(gamma, S, S0):\n",
    "    if gamma <0:\n",
    "        S_T= S0 - (S0 - S.min())*gamma\n",
    "    else:\n",
    "        S_T= S0 + (S.max() - S0)*gamma\n",
    "    return S_T\n"
   ]
  },
  {
   "cell_type": "markdown",
   "metadata": {},
   "source": [
    "## calculate the views"
   ]
  },
  {
   "cell_type": "code",
   "execution_count": 89,
   "metadata": {},
   "outputs": [],
   "source": [
    "viewdict = {}\n",
    "for ticker in tickers:\n",
    "    start_price = prices[ticker].iloc[-1]\n",
    "    simulated_prices = monte_carlo_simulation(start_price, mean_return[ticker], volatility[ticker], num_days, num_simulations)\n",
    "    ST = NewStockPrice(sentiment[ticker], simulated_prices, start_price)\n",
    "    viewdict[ticker] = (ST-start_price)/ST\n",
    "    # viewdict[ticker] = np.log(ST/start_price)\n"
   ]
  },
  {
   "cell_type": "code",
   "execution_count": 90,
   "metadata": {},
   "outputs": [
    {
     "data": {
      "text/plain": [
       "{'AAPL': 0.018964873531151474,\n",
       " 'AMZN': 0.028263448827409554,\n",
       " 'META': 0.01943136246396667,\n",
       " 'NFLX': 0.043169355105886424,\n",
       " 'NVDA': 0.05505086060919889,\n",
       " 'TSLA': 0.0388965050339289}"
      ]
     },
     "execution_count": 90,
     "metadata": {},
     "output_type": "execute_result"
    }
   ],
   "source": [
    "viewdict"
   ]
  },
  {
   "cell_type": "code",
   "execution_count": 91,
   "metadata": {},
   "outputs": [],
   "source": [
    "bl = BlackLittermanModel(S, pi=market_prior, absolute_views=viewdict, omega=\"idzorek\", view_confidences=confidences)"
   ]
  },
  {
   "cell_type": "markdown",
   "metadata": {},
   "source": [
    "Posterior Estimates "
   ]
  },
  {
   "cell_type": "code",
   "execution_count": 92,
   "metadata": {},
   "outputs": [
    {
     "data": {
      "text/html": [
       "<div>\n",
       "<style scoped>\n",
       "    .dataframe tbody tr th:only-of-type {\n",
       "        vertical-align: middle;\n",
       "    }\n",
       "\n",
       "    .dataframe tbody tr th {\n",
       "        vertical-align: top;\n",
       "    }\n",
       "\n",
       "    .dataframe thead th {\n",
       "        text-align: right;\n",
       "    }\n",
       "</style>\n",
       "<table border=\"1\" class=\"dataframe\">\n",
       "  <thead>\n",
       "    <tr style=\"text-align: right;\">\n",
       "      <th></th>\n",
       "      <th>Prior</th>\n",
       "      <th>Posterior</th>\n",
       "      <th>Views</th>\n",
       "    </tr>\n",
       "  </thead>\n",
       "  <tbody>\n",
       "    <tr>\n",
       "      <th>AAPL</th>\n",
       "      <td>0.269684</td>\n",
       "      <td>0.168149</td>\n",
       "      <td>0.018965</td>\n",
       "    </tr>\n",
       "    <tr>\n",
       "      <th>AMZN</th>\n",
       "      <td>0.217663</td>\n",
       "      <td>0.137141</td>\n",
       "      <td>0.028263</td>\n",
       "    </tr>\n",
       "    <tr>\n",
       "      <th>META</th>\n",
       "      <td>0.078055</td>\n",
       "      <td>0.057541</td>\n",
       "      <td>0.019431</td>\n",
       "    </tr>\n",
       "    <tr>\n",
       "      <th>NFLX</th>\n",
       "      <td>0.120536</td>\n",
       "      <td>0.079239</td>\n",
       "      <td>0.043169</td>\n",
       "    </tr>\n",
       "    <tr>\n",
       "      <th>NVDA</th>\n",
       "      <td>0.284824</td>\n",
       "      <td>0.198010</td>\n",
       "      <td>0.055051</td>\n",
       "    </tr>\n",
       "    <tr>\n",
       "      <th>TSLA</th>\n",
       "      <td>0.097764</td>\n",
       "      <td>0.067922</td>\n",
       "      <td>0.038897</td>\n",
       "    </tr>\n",
       "  </tbody>\n",
       "</table>\n",
       "</div>"
      ],
      "text/plain": [
       "         Prior  Posterior     Views\n",
       "AAPL  0.269684   0.168149  0.018965\n",
       "AMZN  0.217663   0.137141  0.028263\n",
       "META  0.078055   0.057541  0.019431\n",
       "NFLX  0.120536   0.079239  0.043169\n",
       "NVDA  0.284824   0.198010  0.055051\n",
       "TSLA  0.097764   0.067922  0.038897"
      ]
     },
     "execution_count": 92,
     "metadata": {},
     "output_type": "execute_result"
    }
   ],
   "source": [
    "# Posterior estimate of returns\n",
    "ret_bl = bl.bl_returns()\n",
    "\n",
    "rets_df = pd.DataFrame([market_prior, ret_bl, pd.Series(viewdict)], \n",
    "             index=[\"Prior\", \"Posterior\", \"Views\"]).T\n",
    "rets_df"
   ]
  },
  {
   "cell_type": "code",
   "execution_count": 93,
   "metadata": {},
   "outputs": [
    {
     "data": {
      "text/plain": [
       "<Axes: >"
      ]
     },
     "execution_count": 93,
     "metadata": {},
     "output_type": "execute_result"
    },
    {
     "data": {
      "image/png": "[encoded data removed]",
      "text/plain": [
       "<Figure size 1200x800 with 1 Axes>"
      ]
     },
     "metadata": {},
     "output_type": "display_data"
    }
   ],
   "source": [
    "rets_df.plot.bar(figsize=(12,8))"
   ]
  },
  {
   "cell_type": "markdown",
   "metadata": {},
   "source": [
    "# Portfolio optimization by mean-variance "
   ]
  },
  {
   "cell_type": "code",
   "execution_count": 88,
   "metadata": {},
   "outputs": [
    {
     "data": {
      "text/plain": [
       "OrderedDict([('AAPL', 0.26226),\n",
       "             ('AMZN', 0.19316),\n",
       "             ('META', 0.06642),\n",
       "             ('NFLX', 0.09033),\n",
       "             ('NVDA', 0.30581),\n",
       "             ('TSLA', 0.08203)])"
      ]
     },
     "execution_count": 88,
     "metadata": {},
     "output_type": "execute_result"
    }
   ],
   "source": [
    "from pypfopt import EfficientFrontier, objective_functions\n",
    "# Optimize for maximal Sharpe ratio\n",
    "# Long/short: by default all of the mean-variance optimization methods in PyPortfolioOpt are long-only, but they can be initialised to allow for short positions by changing the weight bounds:ef = EfficientFrontier(mu, S, weight_bounds=(-1, 1))\n",
    "S_bl = bl.bl_cov()\n",
    "ef = EfficientFrontier(ret_bl, S_bl)\n",
    "ef.add_objective(objective_functions.L2_reg)\n",
    "ef.max_sharpe()\n",
    "weights = ef.clean_weights()\n",
    "weights"
   ]
  },
  {
   "cell_type": "code",
   "execution_count": null,
   "metadata": {},
   "outputs": [],
   "source": [
    "# compare the results "
   ]
  },
  {
   "cell_type": "markdown",
   "metadata": {},
   "source": []
  }
 ],
 "metadata": {
  "kernelspec": {
   "display_name": "Python 3",
   "language": "python",
   "name": "python3"
  },
  "language_info": {
   "codemirror_mode": {
    "name": "ipython",
    "version": 3
   },
   "file_extension": ".py",
   "mimetype": "text/x-python",
   "name": "python",
   "nbconvert_exporter": "python",
   "pygments_lexer": "ipython3",
   "version": "3.11.6"
  }
 },
 "nbformat": 4,
 "nbformat_minor": 2
}
