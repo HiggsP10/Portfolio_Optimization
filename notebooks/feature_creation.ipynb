{
 "cells": [
  {
   "cell_type": "markdown",
   "metadata": {},
   "source": [
    "### In this notebook, we create some datasets with features not directly available from alpha vantage.\n",
    "\n",
    "As usual, we start by importing the usual packages."
   ]
  },
  {
   "cell_type": "code",
   "execution_count": 9,
   "metadata": {},
   "outputs": [],
   "source": [
    "#import usual packages for data manipulation\n",
    "import pandas as pd\n",
    "import numpy as np\n",
    "\n",
    "#import usual packages for data visualization\n",
    "import matplotlib.pyplot as plt\n",
    "import seaborn as sns\n",
    "\n",
    "#import datetime to work with dates\n",
    "import datetime as dt\n",
    "\n",
    "#packages for statistics\n",
    "import statsmodels.api as sm"
   ]
  },
  {
   "cell_type": "code",
   "execution_count": 18,
   "metadata": {},
   "outputs": [],
   "source": [
    "def get_rolling(df, window_size):\n",
    "    vals = df['close']\n",
    "    wts = df['volume'] / df['volume'].rolling(window_size).sum()\n",
    "    ma = sm.stats.DescrStatsW(data = vals)\n",
    "    vwa = sm.stats.DescrStatsW(data = vals, weights = wts)\n",
    "    return {'ma': ma.mean,\n",
    "            'vwap': vwa.mean,\n",
    "            'std': ma.std,\n",
    "            'vwstd': vwa.std}"
   ]
  }
 ],
 "metadata": {
  "kernelspec": {
   "display_name": "erdos_may_2024",
   "language": "python",
   "name": "python3"
  },
  "language_info": {
   "codemirror_mode": {
    "name": "ipython",
    "version": 3
   },
   "file_extension": ".py",
   "mimetype": "text/x-python",
   "name": "python",
   "nbconvert_exporter": "python",
   "pygments_lexer": "ipython3",
   "version": "3.11.9"
  }
 },
 "nbformat": 4,
 "nbformat_minor": 2
}
