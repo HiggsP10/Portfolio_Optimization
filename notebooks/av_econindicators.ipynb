{
 "cells": [
  {
   "cell_type": "code",
   "execution_count": null,
   "metadata": {},
   "outputs": [],
   "source": [
    "#import usual packages for data manipulation\n",
    "import pandas as pd\n",
    "import numpy as np\n",
    "\n",
    "#import usual packages for data visualization\n",
    "import matplotlib.pyplot as plt\n",
    "import seaborn as sns\n",
    "\n",
    "#import datetime to get the current date\n",
    "import datetime as dt\n",
    "\n",
    "import json\n",
    "\n",
    "#set the style of the plots\n",
    "plt.style.use('seaborn-v0_8-whitegrid')"
   ]
  },
  {
   "cell_type": "code",
   "execution_count": null,
   "metadata": {},
   "outputs": [],
   "source": [
    "#Arvind's API key\n",
    "my_key = 'DJ3QKKTFZ5J298QY'"
   ]
  },
  {
   "cell_type": "code",
   "execution_count": null,
   "metadata": {},
   "outputs": [],
   "source": [
    "#from alpha_vantage import EconIndicators\n",
    "from alpha_vantage.econindicators import EconIndicators\n",
    "\n",
    "#instantiate the econindicators class\n",
    "ei = EconIndicators(key=my_key, output_format='pandas')\n",
    "\n",
    "#get following date: quarterly gdp percap, monthly treasury yield (10yrs), monthly unemployment rate, monthly inflation rate, monthly consumer price index\n",
    "gdp_percap, _ = ei.get_real_gdp_per_capita()\n",
    "treasury_yield, _ = ei.get_treasury_yield(interval='monthly',maturity='10year')\n",
    "federal_funds_rate, _ = ei.get_ffr(interval='monthly')\n",
    "consumer_price_index, _ = ei.get_cpi(interval='monthly')\n",
    "inflation, _ = ei.get_inflation()\n",
    "unemployment_rate, _ = ei.get_unemployment()"
   ]
  },
  {
   "cell_type": "code",
   "execution_count": null,
   "metadata": {},
   "outputs": [],
   "source": [
    "#loop through all dataframes above and do the following:\n",
    "#1. convert the date column to datetime and set it as the index\n",
    "#2. sort into ascending order of date\n",
    "#3. drop all rows corresponding to years before 2014\n",
    "\n",
    "for df in [gdp_percap, treasury_yield, federal_funds_rate, consumer_price_index, inflation, unemployment_rate]:\n",
    "    df['date'] = pd.to_datetime(df['date'])\n",
    "    df.sort_values(by='date',inplace=True)\n",
    "    df.set_index('date',inplace=True)\n",
    "    df.drop(df[df.index.year < 2014].index,inplace=True)\n",
    "\n",
    "#merge all dataframes into one\n",
    "df_econindicators = pd.concat([gdp_percap, treasury_yield, federal_funds_rate, consumer_price_index, inflation, unemployment_rate],axis=1)\n",
    "#rename columns\n",
    "df_econindicators.columns = ['gdp_percap','treasury_yield','federal_funds_rate','consumer_price_index','inflation','unemployment_rate']\n",
    "#forward fill missing values\n",
    "df_econindicators = df_econindicators.ffill()\n",
    "#save to csv\n",
    "df_econindicators.to_csv('../data/econindicators.csv')"
   ]
  }
 ],
 "metadata": {
  "language_info": {
   "name": "python"
  }
 },
 "nbformat": 4,
 "nbformat_minor": 2
}
