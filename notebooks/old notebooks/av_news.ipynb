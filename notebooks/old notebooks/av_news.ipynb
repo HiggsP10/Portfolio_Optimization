{
 "cells": [
  {
   "cell_type": "code",
   "execution_count": 9,
   "metadata": {},
   "outputs": [],
   "source": [
    "#import usual packages for data manipulation\n",
    "import pandas as pd\n",
    "import numpy as np\n",
    "\n",
    "#import usual packages for data visualization\n",
    "import matplotlib.pyplot as plt\n",
    "import seaborn as sns\n",
    "\n",
    "#import yfinance to get stock data\n",
    "import yfinance as yf\n",
    "\n",
    "#import quantstats to get some statistics on the stock data\n",
    "import quantstats as qs\n",
    "\n",
    "#import statistical packages\n",
    "import statsmodels.api as sm\n",
    "import scipy.stats as scs\n",
    "\n",
    "#import datetime to get the current date\n",
    "import datetime as dt\n",
    "\n",
    "#import class AlphaIntelligence from the module alphaintelligence\n",
    "from alpha_vantage.alphaintelligence import AlphaIntelligence\n",
    "\n",
    "import json\n",
    "\n",
    "#set the style of the plots\n",
    "plt.style.use('seaborn-v0_8-whitegrid')"
   ]
  },
  {
   "cell_type": "code",
   "execution_count": 3,
   "metadata": {},
   "outputs": [],
   "source": [
    "#set the API key\n",
    "my_key = 'DJ3QKKTFZ5J298QY'\n",
    "\n",
    "#initialize the class AlphaIntelligence\n",
    "ai = AlphaIntelligence(my_key,output_format='pandas')"
   ]
  },
  {
   "cell_type": "code",
   "execution_count": 4,
   "metadata": {},
   "outputs": [],
   "source": [
    "#choose the ticker\n",
    "ticker = 'AMZN'"
   ]
  },
  {
   "cell_type": "code",
   "execution_count": 5,
   "metadata": {},
   "outputs": [],
   "source": [
    "#get news data for the ticker\n",
    "news_data, news_meta_data = ai.get_news_sentiment(tickers=ticker,\n",
    "                                                  time_from='20220810T0130',\n",
    "                                                  limit=1000)"
   ]
  },
  {
   "cell_type": "code",
   "execution_count": 21,
   "metadata": {},
   "outputs": [],
   "source": [
    "news_data.to_csv(f'../data/{ticker}_news_data_raw.csv')"
   ]
  },
  {
   "cell_type": "code",
   "execution_count": 22,
   "metadata": {},
   "outputs": [],
   "source": [
    "df = news_data.copy()\n",
    "df.reset_index(inplace=True, drop=True)\n",
    "df = pd.DataFrame({'date': pd.to_datetime(df['time_published']).dt.date,\n",
    "                   'ticker_sentiment': df['ticker_sentiment']})\n",
    "df = df.groupby('date').sum()\n",
    "scores = [] #to store daily sentiment scores for aapl\n",
    "relevances = [] #to store daily relevance scores for aapl\n",
    "for i in range(len(df)):\n",
    "    temp = pd.DataFrame(df['ticker_sentiment'].iloc[i])\n",
    "    temp = temp[temp['ticker'] == ticker]\n",
    "    wts = temp['relevance_score'].astype(float)\n",
    "    raw_scores = temp['ticker_sentiment_score'].astype(float)\n",
    "    #append the mean relevance score for the day\n",
    "    relevances.append(wts.mean())\n",
    "    #append the weighted average sentiment score for the day\n",
    "    scores.append(np.dot(wts,raw_scores) / wts.sum())\n",
    "df[f'{ticker}_sentiment_score'] = np.array(scores)\n",
    "df[f'{ticker}_relevance_score'] = np.array(relevances)\n",
    "df.drop('ticker_sentiment', axis=1, inplace=True)\n",
    "df.to_csv(f'../data/{ticker}_news_data.csv')"
   ]
  }
 ],
 "metadata": {
  "kernelspec": {
   "display_name": "erdos_may_2024",
   "language": "python",
   "name": "python3"
  },
  "language_info": {
   "codemirror_mode": {
    "name": "ipython",
    "version": 3
   },
   "file_extension": ".py",
   "mimetype": "text/x-python",
   "name": "python",
   "nbconvert_exporter": "python",
   "pygments_lexer": "ipython3",
   "version": "3.11.9"
  }
 },
 "nbformat": 4,
 "nbformat_minor": 2
}
