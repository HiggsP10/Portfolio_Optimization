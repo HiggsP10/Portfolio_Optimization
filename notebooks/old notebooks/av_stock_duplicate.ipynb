{
 "cells": [
  {
   "cell_type": "code",
   "execution_count": 1,
   "metadata": {},
   "outputs": [],
   "source": [
    "#import usual packages for data manipulation\n",
    "import pandas as pd\n",
    "import numpy as np\n",
    "\n",
    "#import usual packages for data visualization\n",
    "import matplotlib.pyplot as plt\n",
    "import seaborn as sns\n",
    "\n",
    "#import datetime to get the current date\n",
    "import datetime as dt\n",
    "\n",
    "#from alpha vantage, import the TimeSeries class\n",
    "from alpha_vantage.timeseries import TimeSeries\n",
    "\n",
    "import json\n",
    "\n",
    "#set the style of the plots\n",
    "plt.style.use('seaborn-v0_8-whitegrid')"
   ]
  },
  {
   "cell_type": "code",
   "execution_count": 2,
   "metadata": {},
   "outputs": [],
   "source": [
    "#set the API key\n",
    "my_key = 'DJ3QKKTFZ5J298QY'\n",
    "\n",
    "#initialize the FundamentalData class\n",
    "ts = TimeSeries(key=my_key, output_format='pandas')"
   ]
  },
  {
   "cell_type": "code",
   "execution_count": 3,
   "metadata": {},
   "outputs": [],
   "source": [
    "#choose a ticker\n",
    "ticker = 'AAPL'"
   ]
  },
  {
   "cell_type": "code",
   "execution_count": 4,
   "metadata": {},
   "outputs": [],
   "source": [
    "stock_data, stock_meta_data = ts.get_daily(ticker,outputsize='full')"
   ]
  },
  {
   "cell_type": "code",
   "execution_count": 5,
   "metadata": {},
   "outputs": [],
   "source": [
    "df = stock_data.copy()\n",
    "df.columns = ['open','high','low','close','volume']\n",
    "df.sort_index(inplace=True)\n",
    "df = df[df.index.year >= 2014]\n",
    "df.to_csv(f'../data/{ticker}_stock.csv')"
   ]
  },
  {
   "cell_type": "code",
   "execution_count": 6,
   "metadata": {},
   "outputs": [],
   "source": [
    "def wtd_std(vals,wts):\n",
    "    wtd_mean = np.average(vals,weights=wts)\n",
    "    vals_demeaned = vals - wtd_mean\n",
    "    wtd_var = np.average(vals_demeaned**2,weights=wts)\n",
    "    return np.sqrt(wtd_var)\n",
    "\n",
    "def get_wtd_std(vals,wts,window):\n",
    "    ser = np.zeros(len(df))\n",
    "    for i in range(len(df)-1 , 0, -1):\n",
    "        if i < window:\n",
    "            ser[i] = np.nan\n",
    "        else:\n",
    "            ser[i] = wtd_std(vals.iloc[i-window+1:i+1],wts.iloc[i-window+1:i+1])\n",
    "    return ser"
   ]
  },
  {
   "cell_type": "code",
   "execution_count": 7,
   "metadata": {},
   "outputs": [],
   "source": [
    "#window sizes for moving avgs and volume-weighted moving avgs\n",
    "windows = [5, 11, 21, 63, 125, 251]\n",
    "#calculate past moving averages, standard dev's, volume-weighted moving averages, and standard dev's of volume-weighted moving averages\n",
    "for w in windows:\n",
    "    df[f'ma_{w}'] = df['close'].rolling(w).mean()\n",
    "    df[f'std_{w}'] = df['close'].rolling(w).std()\n",
    "    #compute the w-day volume weights\n",
    "    df[f'wts_{w}'] = df['volume'] / df['volume'].rolling(w).sum()\n",
    "    #compute VWAP by dotting the w-day close price with the w-day volume weights\n",
    "    df[f'vwap_{w}'] = (df['close'] * df[f'wts_{w}']).rolling(w).sum()\n",
    "    #compute the weighted standard deviation of the volume-weighted moving averages\n",
    "    df[f'vwstd_{w}'] = get_wtd_std(vals = df[f'close'],\n",
    "                                   wts = df[f'wts_{w}'],\n",
    "                                   window = w)\n",
    "    #drop the volume weights\n",
    "    df.drop(columns=f'wts_{w}',inplace=True)\n",
    "    # add rolling bollinger bands for windows w in [5,11,21,63,125,251]\n",
    "    # bollinger bands are defined as the moving average plus/minus 2 times the moving standard deviation\n",
    "    # store the upper and lower bands in columns f'bbu_{w}' and f'bbl_{w}'\n",
    "    # do the same for the vol-weighted averages and standard deviations\n",
    "    df[f'bbu_{w}'] = df[f'ma_{w}'] + 2 * df[f'std_{w}']\n",
    "    df[f'bbl_{w}'] = df[f'ma_{w}'] - 2 * df[f'std_{w}']\n",
    "    df[f'vwbbu_{w}'] = df[f'vwap_{w}'] + 2 * df[f'vwstd_{w}']\n",
    "    df[f'vwbbl_{w}'] = df[f'vwap_{w}'] - 2 * df[f'vwstd_{w}']\n",
    "#drop NaN's\n",
    "# df.dropna(inplace=True)\n",
    "#save to csv in same folder as the original data, with title f'{ticker}_stock_features.csv'\n",
    "df.to_csv(f'../data/{ticker}_stock_features.csv')\n",
    "    "
   ]
  }
 ],
 "metadata": {
  "kernelspec": {
   "display_name": "erdos_may_2024",
   "language": "python",
   "name": "python3"
  },
  "language_info": {
   "codemirror_mode": {
    "name": "ipython",
    "version": 3
   },
   "file_extension": ".py",
   "mimetype": "text/x-python",
   "name": "python",
   "nbconvert_exporter": "python",
   "pygments_lexer": "ipython3",
   "version": "3.11.9"
  }
 },
 "nbformat": 4,
 "nbformat_minor": 2
}
